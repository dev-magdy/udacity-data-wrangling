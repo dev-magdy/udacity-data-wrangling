{
 "cells": [
  {
   "cell_type": "markdown",
   "metadata": {},
   "source": [
    "# Introduction\n",
    "This document details the data wrangling steps taken to gather, assess, clean the dataset given for the Udacity Data Analysis project. The documents further shows some insights concluded from the cleaned data."
   ]
  },
  {
   "cell_type": "markdown",
   "metadata": {},
   "source": [
    "# Data Gathering\n",
    "Three data sources were assigned for this project. Here's a brief about each:\n",
    "1. The WeRateDogs Twitter archive. This archive was collected by the instructor and given to me as a downloaded csv file. The file was read in a dataframe named `archive`.\n",
    "2. The tweet image predictions, which shows what breed of dog or otherwise is present in each tweet according to a neural network the instructor used on the images included in the tweet archive. This file (image_predictions.tsv) is hosted on Udacity's servers and was downloaded programmatically using Python's Requests module via the given URL. The downloaded file was read into a dataframe named `images`.\n",
    "3. The tweet_json.txt file, which holds the same tweets in the archive file. I downloaded this file directly as I was short on time and I didn't need the practice on APIs as I'm a professional web scraper anyway. The file was parsed using the json module and the result was read into a dataframe named `tweets`."
   ]
  },
  {
   "cell_type": "markdown",
   "metadata": {},
   "source": [
    "# Data Assessment\n",
    "I assessed the data both visually and programmatically. The following is a brief about both techniques and my findings."
   ]
  },
  {
   "cell_type": "markdown",
   "metadata": {},
   "source": [
    "## Visual Assessment\n",
    "I opened all files in a spreadsheet program and inspected them visually. I noticed the following:\n",
    "- A lot of \"None\" values in the `name` column and the `doggo`, `puppo`, `floofer`, `pupper` group. (Let's columns the stage group). I understand that this is different than NaN values.\n",
    "- The format of the stage columns are a major data tidiness issue, because these represent variables and shouldn't be columns headers.\n",
    "- Accordingly, some data is missing in the `name` column and the stage columns.\n",
    "- Some tweets are retweets.\n",
    "- Some tweets are just not dog ratings. Looks like some people send images of other things as a joke.\n",
    "- Name is sometimes incorrectly extracted.\n",
    "- Numerator is sometimes incorrectly extracted. Sometimes it's a float and only the portion of the number to the right of the point is extracted.\n",
    "- Sometimes the 'stage' is incorrectly extracted. The tweet sometimes uses \"pupper\" in a verb format like \"puppaled\" or \"puppared\". At least once, it's reported as \"puppa\"."
   ]
  },
  {
   "cell_type": "markdown",
   "metadata": {},
   "source": [
    "## Programmatic Assessment\n",
    "I used the DataFrame.info() and Dataframe.describe() functions to inspect the data in the notebook. I realized the following:\n",
    "- The timestamps columns in the archive dataframe are strings, not datetime dtype.\n",
    "- The number of rows in the images file is significantly lower than the number of rows in the archive file. I thought that some images could be missing.\n",
    "- The number of rows in the tweets file is 2 less than the number of rows in the archive. At least two tweets could be missing.\n",
    "- I was to verify that actually only two tweets are missing from the tweets dataframe. I did also verify that both are retweets, so they didn't constitute a problem."
   ]
  },
  {
   "cell_type": "markdown",
   "metadata": {},
   "source": [
    "# Data Cleaning\n",
    "I used the define, code, test plan to clean the data based on my observations. The following is a brief about each step:"
   ]
  },
  {
   "cell_type": "markdown",
   "metadata": {},
   "source": [
    "### Define\n",
    "I defined a plan to clean the data with clear steps. I ordered the steps so that some of the early steps would solve more issues that could spare me extra steps. Here's a brief about the plan:\n",
    "1. Remove all retweets. To identify them, either their text begins with \"RT\" or they have a non-Null `retweeted_status_id`. This step decreased the severity of other issues and resolve some others completely. For example:\n",
    "- Didn't need to worry about the two missing tweets from the tweets dataframe.\n",
    "- Didn't need to worry about changing the dtype of `retweeted_status_timestamp` column as it's totally empty now.\n",
    "2. Drop all retweet-related columns. They don't serve any purpose anymore.\n",
    "2. Remove tweets that are not dog ratings. To identify them, they contain phrases like \"We only rate dogs\".\n",
    "3. Another more effective way to remove tweets that are not dog ratings is by using the images data frame. Remove all tweets where `p1_dog` is `False`.\n",
    "4. Convert all \"None\" values in the `name` column *only* in the `archive` to NaN. The last four columns will be dropped anyway. This should make analysis easier.\n",
    "5. Convert `timestamp` to datetime. The `retweeted_status_timestamp` is dropped by now as explained in the first step.\n",
    "6. Redefine the regular expression for extracting dog name. This should solve empty names and wrong names issue.\n",
    "7. Improve the regular expression for extracting the rating. Sometimes numerator is a float.\n",
    "8. Convert the `rating_numerator` column to float.\n",
    "9. Create a new column in the `archive` dataframe to contain the 'stage' variable. This is to solve the major tidiness issue of having variables as columns.\n",
    "10. Improve the regular expression to extract the 'stage' variable and populate the column.\n",
    "11. Drop the `doggo`, `floofer`, `pupper` & `puppo` columns.\n",
    "11. Check to see if we're really missing some images after the above cleaning.\n",
    "12. Check to see if we're still missing some tweets from the `tweets` dataframe. This issue should be resolved by now by performing step #1\n",
    "14. Merge the `archive` and `tweets` dataframes to improve data tidiness.\n",
    "15. Merge the `p1` and `p1_conf` columns from the `images` dataframe into the combined dataframe."
   ]
  },
  {
   "cell_type": "markdown",
   "metadata": {},
   "source": [
    "### Code\n",
    "The code is well commented. Please check it out in the main notebook."
   ]
  },
  {
   "cell_type": "markdown",
   "metadata": {},
   "source": [
    "### Test\n",
    "Testing has showed the following:\n",
    "- We're indeed missing 690 images that were not run through the neural network.\n",
    "- The two retweets that were missing from the tweets dataset are not a problem any more.\n",
    "- The timestamp column dtype is corrected.\n",
    "- The rating_numerator is now a float.\n",
    "- Found an extra problem with the name extraction regular expression. Reimproved it and improved the situation a lot.\n",
    "- Verified that the improved regular expression has improved the situation of missing data in the `stage` column significantly."
   ]
  },
  {
   "cell_type": "markdown",
   "metadata": {},
   "source": [
    "## Storing and Conclusions\n",
    "The combined tidy dataset was saved in a file named as required. Furthermore, the following insights were concluded from the data as shown in the main notebook:\n",
    "- Judging by the number of tweet favoring and retweets, the top 5 favorite dog breeds by the account followers are golden retriever, labrador_retriever, pembroke, chihuahua, and French bulldog respictively.\n",
    "- By adding a year column to the dataset, I was able to find which dog breed was favorite accross the 3 years of tweet data we have. The toy poodles were the most favorites in 2015 but golden retrievers took over in 2016 and held to their lead in 2017.\n",
    "- Using the value_counts() function, I was able to find the top 5 dog names used by the account followers.\n",
    "- Some plots are shown in the main notebook along with some conclusions about them."
   ]
  }
 ],
 "metadata": {
  "kernelspec": {
   "display_name": "Python 3",
   "language": "python",
   "name": "python3"
  },
  "language_info": {
   "codemirror_mode": {
    "name": "ipython",
    "version": 3
   },
   "file_extension": ".py",
   "mimetype": "text/x-python",
   "name": "python",
   "nbconvert_exporter": "python",
   "pygments_lexer": "ipython3",
   "version": "3.8.5"
  }
 },
 "nbformat": 4,
 "nbformat_minor": 4
}

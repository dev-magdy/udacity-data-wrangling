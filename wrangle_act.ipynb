{
 "cells": [
  {
   "cell_type": "markdown",
   "metadata": {},
   "source": [
    "# Introduction"
   ]
  },
  {
   "cell_type": "markdown",
   "metadata": {},
   "source": [
    "This is a jupyter notebook detailing the solution for data wrangling project for Udacity Data Analysis course. Here I'll demonstrate the steps taken and code run to gather, asses and clean the data."
   ]
  },
  {
   "cell_type": "markdown",
   "metadata": {},
   "source": [
    "First step is to import all necessary Python modules"
   ]
  },
  {
   "cell_type": "code",
   "execution_count": 1,
   "metadata": {},
   "outputs": [],
   "source": [
    "import pandas as pd\n",
    "import numpy as np\n",
    "import matplotlib.pyplot as plt\n",
    "import requests, json, re\n",
    "\n",
    "%matplotlib inline"
   ]
  },
  {
   "cell_type": "markdown",
   "metadata": {},
   "source": [
    "## Gather"
   ]
  },
  {
   "cell_type": "markdown",
   "metadata": {},
   "source": [
    "We have three data sources here. The first one is already given as a file, which is the `twitter-archive-enhanced.csv` file. Let's import it into a Pandas dataframe"
   ]
  },
  {
   "cell_type": "code",
   "execution_count": 2,
   "metadata": {},
   "outputs": [],
   "source": [
    "archive = pd.read_csv('twitter-archive-enhanced.csv')"
   ]
  },
  {
   "cell_type": "markdown",
   "metadata": {},
   "source": [
    "The second data source is `image_predictions.tsv` file. This should be got programtically from the provided url."
   ]
  },
  {
   "cell_type": "code",
   "execution_count": 3,
   "metadata": {},
   "outputs": [],
   "source": [
    "url = 'https://d17h27t6h515a5.cloudfront.net/topher/2017/August/599fd2ad_image-predictions/image-predictions.tsv'\n",
    "r = requests.get(url)\n",
    "with open ('image-predictions.tsv', 'wb') as imgfile:\n",
    "    imgfile.write(r.content)\n",
    "\n",
    "images = pd.read_csv('image-predictions.tsv', sep='\\t')"
   ]
  },
  {
   "cell_type": "markdown",
   "metadata": {},
   "source": [
    "The third data source comes from Twitter API. Since I'm short on time, I just got the provided text file. I don't need to practice APIs as I'm already a professional web scraper.\n",
    "Let's just parse the text file and selectively build the tweets dataframe."
   ]
  },
  {
   "cell_type": "code",
   "execution_count": 4,
   "metadata": {},
   "outputs": [],
   "source": [
    "# initilaizing the dataframe dictionary\n",
    "df_dict = {'tweet_id': [], 'retweet_count': [], 'favorite_count': []}\n",
    "\n",
    "# parsing the text file line by line and filling up the dict\n",
    "with open('tweet-json.txt', 'r') as jfile:\n",
    "    for line in jfile.readlines():\n",
    "        js = json.loads(line)\n",
    "        df_dict['tweet_id'].append(js['id']) #getting the string id as we won't run any arithmetics on it\n",
    "        df_dict['retweet_count'].append(js['retweet_count'])\n",
    "        df_dict['favorite_count'].append(js['favorite_count'])\n",
    "\n",
    "# building the dataframe\n",
    "tweets = pd.DataFrame(df_dict)"
   ]
  },
  {
   "cell_type": "markdown",
   "metadata": {},
   "source": [
    "## Assess"
   ]
  },
  {
   "cell_type": "markdown",
   "metadata": {},
   "source": [
    "The follwoing is the representation of gathered data. This is followed by my visual and programatic assessment notes."
   ]
  },
  {
   "cell_type": "code",
   "execution_count": 5,
   "metadata": {},
   "outputs": [
    {
     "data": {
      "text/html": [
       "<div>\n",
       "<style scoped>\n",
       "    .dataframe tbody tr th:only-of-type {\n",
       "        vertical-align: middle;\n",
       "    }\n",
       "\n",
       "    .dataframe tbody tr th {\n",
       "        vertical-align: top;\n",
       "    }\n",
       "\n",
       "    .dataframe thead th {\n",
       "        text-align: right;\n",
       "    }\n",
       "</style>\n",
       "<table border=\"1\" class=\"dataframe\">\n",
       "  <thead>\n",
       "    <tr style=\"text-align: right;\">\n",
       "      <th></th>\n",
       "      <th>tweet_id</th>\n",
       "      <th>in_reply_to_status_id</th>\n",
       "      <th>in_reply_to_user_id</th>\n",
       "      <th>timestamp</th>\n",
       "      <th>source</th>\n",
       "      <th>text</th>\n",
       "      <th>retweeted_status_id</th>\n",
       "      <th>retweeted_status_user_id</th>\n",
       "      <th>retweeted_status_timestamp</th>\n",
       "      <th>expanded_urls</th>\n",
       "      <th>rating_numerator</th>\n",
       "      <th>rating_denominator</th>\n",
       "      <th>name</th>\n",
       "      <th>doggo</th>\n",
       "      <th>floofer</th>\n",
       "      <th>pupper</th>\n",
       "      <th>puppo</th>\n",
       "    </tr>\n",
       "  </thead>\n",
       "  <tbody>\n",
       "    <tr>\n",
       "      <th>0</th>\n",
       "      <td>892420643555336193</td>\n",
       "      <td>NaN</td>\n",
       "      <td>NaN</td>\n",
       "      <td>2017-08-01 16:23:56 +0000</td>\n",
       "      <td>&lt;a href=\"http://twitter.com/download/iphone\" r...</td>\n",
       "      <td>This is Phineas. He's a mystical boy. Only eve...</td>\n",
       "      <td>NaN</td>\n",
       "      <td>NaN</td>\n",
       "      <td>NaN</td>\n",
       "      <td>https://twitter.com/dog_rates/status/892420643...</td>\n",
       "      <td>13</td>\n",
       "      <td>10</td>\n",
       "      <td>Phineas</td>\n",
       "      <td>None</td>\n",
       "      <td>None</td>\n",
       "      <td>None</td>\n",
       "      <td>None</td>\n",
       "    </tr>\n",
       "    <tr>\n",
       "      <th>1</th>\n",
       "      <td>892177421306343426</td>\n",
       "      <td>NaN</td>\n",
       "      <td>NaN</td>\n",
       "      <td>2017-08-01 00:17:27 +0000</td>\n",
       "      <td>&lt;a href=\"http://twitter.com/download/iphone\" r...</td>\n",
       "      <td>This is Tilly. She's just checking pup on you....</td>\n",
       "      <td>NaN</td>\n",
       "      <td>NaN</td>\n",
       "      <td>NaN</td>\n",
       "      <td>https://twitter.com/dog_rates/status/892177421...</td>\n",
       "      <td>13</td>\n",
       "      <td>10</td>\n",
       "      <td>Tilly</td>\n",
       "      <td>None</td>\n",
       "      <td>None</td>\n",
       "      <td>None</td>\n",
       "      <td>None</td>\n",
       "    </tr>\n",
       "    <tr>\n",
       "      <th>2</th>\n",
       "      <td>891815181378084864</td>\n",
       "      <td>NaN</td>\n",
       "      <td>NaN</td>\n",
       "      <td>2017-07-31 00:18:03 +0000</td>\n",
       "      <td>&lt;a href=\"http://twitter.com/download/iphone\" r...</td>\n",
       "      <td>This is Archie. He is a rare Norwegian Pouncin...</td>\n",
       "      <td>NaN</td>\n",
       "      <td>NaN</td>\n",
       "      <td>NaN</td>\n",
       "      <td>https://twitter.com/dog_rates/status/891815181...</td>\n",
       "      <td>12</td>\n",
       "      <td>10</td>\n",
       "      <td>Archie</td>\n",
       "      <td>None</td>\n",
       "      <td>None</td>\n",
       "      <td>None</td>\n",
       "      <td>None</td>\n",
       "    </tr>\n",
       "    <tr>\n",
       "      <th>3</th>\n",
       "      <td>891689557279858688</td>\n",
       "      <td>NaN</td>\n",
       "      <td>NaN</td>\n",
       "      <td>2017-07-30 15:58:51 +0000</td>\n",
       "      <td>&lt;a href=\"http://twitter.com/download/iphone\" r...</td>\n",
       "      <td>This is Darla. She commenced a snooze mid meal...</td>\n",
       "      <td>NaN</td>\n",
       "      <td>NaN</td>\n",
       "      <td>NaN</td>\n",
       "      <td>https://twitter.com/dog_rates/status/891689557...</td>\n",
       "      <td>13</td>\n",
       "      <td>10</td>\n",
       "      <td>Darla</td>\n",
       "      <td>None</td>\n",
       "      <td>None</td>\n",
       "      <td>None</td>\n",
       "      <td>None</td>\n",
       "    </tr>\n",
       "    <tr>\n",
       "      <th>4</th>\n",
       "      <td>891327558926688256</td>\n",
       "      <td>NaN</td>\n",
       "      <td>NaN</td>\n",
       "      <td>2017-07-29 16:00:24 +0000</td>\n",
       "      <td>&lt;a href=\"http://twitter.com/download/iphone\" r...</td>\n",
       "      <td>This is Franklin. He would like you to stop ca...</td>\n",
       "      <td>NaN</td>\n",
       "      <td>NaN</td>\n",
       "      <td>NaN</td>\n",
       "      <td>https://twitter.com/dog_rates/status/891327558...</td>\n",
       "      <td>12</td>\n",
       "      <td>10</td>\n",
       "      <td>Franklin</td>\n",
       "      <td>None</td>\n",
       "      <td>None</td>\n",
       "      <td>None</td>\n",
       "      <td>None</td>\n",
       "    </tr>\n",
       "  </tbody>\n",
       "</table>\n",
       "</div>"
      ],
      "text/plain": [
       "             tweet_id  in_reply_to_status_id  in_reply_to_user_id  \\\n",
       "0  892420643555336193                    NaN                  NaN   \n",
       "1  892177421306343426                    NaN                  NaN   \n",
       "2  891815181378084864                    NaN                  NaN   \n",
       "3  891689557279858688                    NaN                  NaN   \n",
       "4  891327558926688256                    NaN                  NaN   \n",
       "\n",
       "                   timestamp  \\\n",
       "0  2017-08-01 16:23:56 +0000   \n",
       "1  2017-08-01 00:17:27 +0000   \n",
       "2  2017-07-31 00:18:03 +0000   \n",
       "3  2017-07-30 15:58:51 +0000   \n",
       "4  2017-07-29 16:00:24 +0000   \n",
       "\n",
       "                                              source  \\\n",
       "0  <a href=\"http://twitter.com/download/iphone\" r...   \n",
       "1  <a href=\"http://twitter.com/download/iphone\" r...   \n",
       "2  <a href=\"http://twitter.com/download/iphone\" r...   \n",
       "3  <a href=\"http://twitter.com/download/iphone\" r...   \n",
       "4  <a href=\"http://twitter.com/download/iphone\" r...   \n",
       "\n",
       "                                                text  retweeted_status_id  \\\n",
       "0  This is Phineas. He's a mystical boy. Only eve...                  NaN   \n",
       "1  This is Tilly. She's just checking pup on you....                  NaN   \n",
       "2  This is Archie. He is a rare Norwegian Pouncin...                  NaN   \n",
       "3  This is Darla. She commenced a snooze mid meal...                  NaN   \n",
       "4  This is Franklin. He would like you to stop ca...                  NaN   \n",
       "\n",
       "   retweeted_status_user_id retweeted_status_timestamp  \\\n",
       "0                       NaN                        NaN   \n",
       "1                       NaN                        NaN   \n",
       "2                       NaN                        NaN   \n",
       "3                       NaN                        NaN   \n",
       "4                       NaN                        NaN   \n",
       "\n",
       "                                       expanded_urls  rating_numerator  \\\n",
       "0  https://twitter.com/dog_rates/status/892420643...                13   \n",
       "1  https://twitter.com/dog_rates/status/892177421...                13   \n",
       "2  https://twitter.com/dog_rates/status/891815181...                12   \n",
       "3  https://twitter.com/dog_rates/status/891689557...                13   \n",
       "4  https://twitter.com/dog_rates/status/891327558...                12   \n",
       "\n",
       "   rating_denominator      name doggo floofer pupper puppo  \n",
       "0                  10   Phineas  None    None   None  None  \n",
       "1                  10     Tilly  None    None   None  None  \n",
       "2                  10    Archie  None    None   None  None  \n",
       "3                  10     Darla  None    None   None  None  \n",
       "4                  10  Franklin  None    None   None  None  "
      ]
     },
     "execution_count": 5,
     "metadata": {},
     "output_type": "execute_result"
    }
   ],
   "source": [
    "archive.head()"
   ]
  },
  {
   "cell_type": "code",
   "execution_count": 6,
   "metadata": {},
   "outputs": [
    {
     "name": "stdout",
     "output_type": "stream",
     "text": [
      "<class 'pandas.core.frame.DataFrame'>\n",
      "RangeIndex: 2356 entries, 0 to 2355\n",
      "Data columns (total 17 columns):\n",
      " #   Column                      Non-Null Count  Dtype  \n",
      "---  ------                      --------------  -----  \n",
      " 0   tweet_id                    2356 non-null   int64  \n",
      " 1   in_reply_to_status_id       78 non-null     float64\n",
      " 2   in_reply_to_user_id         78 non-null     float64\n",
      " 3   timestamp                   2356 non-null   object \n",
      " 4   source                      2356 non-null   object \n",
      " 5   text                        2356 non-null   object \n",
      " 6   retweeted_status_id         181 non-null    float64\n",
      " 7   retweeted_status_user_id    181 non-null    float64\n",
      " 8   retweeted_status_timestamp  181 non-null    object \n",
      " 9   expanded_urls               2297 non-null   object \n",
      " 10  rating_numerator            2356 non-null   int64  \n",
      " 11  rating_denominator          2356 non-null   int64  \n",
      " 12  name                        2356 non-null   object \n",
      " 13  doggo                       2356 non-null   object \n",
      " 14  floofer                     2356 non-null   object \n",
      " 15  pupper                      2356 non-null   object \n",
      " 16  puppo                       2356 non-null   object \n",
      "dtypes: float64(4), int64(3), object(10)\n",
      "memory usage: 313.0+ KB\n"
     ]
    }
   ],
   "source": [
    "archive.info()"
   ]
  },
  {
   "cell_type": "code",
   "execution_count": 7,
   "metadata": {},
   "outputs": [
    {
     "data": {
      "text/html": [
       "<div>\n",
       "<style scoped>\n",
       "    .dataframe tbody tr th:only-of-type {\n",
       "        vertical-align: middle;\n",
       "    }\n",
       "\n",
       "    .dataframe tbody tr th {\n",
       "        vertical-align: top;\n",
       "    }\n",
       "\n",
       "    .dataframe thead th {\n",
       "        text-align: right;\n",
       "    }\n",
       "</style>\n",
       "<table border=\"1\" class=\"dataframe\">\n",
       "  <thead>\n",
       "    <tr style=\"text-align: right;\">\n",
       "      <th></th>\n",
       "      <th>tweet_id</th>\n",
       "      <th>jpg_url</th>\n",
       "      <th>img_num</th>\n",
       "      <th>p1</th>\n",
       "      <th>p1_conf</th>\n",
       "      <th>p1_dog</th>\n",
       "      <th>p2</th>\n",
       "      <th>p2_conf</th>\n",
       "      <th>p2_dog</th>\n",
       "      <th>p3</th>\n",
       "      <th>p3_conf</th>\n",
       "      <th>p3_dog</th>\n",
       "    </tr>\n",
       "  </thead>\n",
       "  <tbody>\n",
       "    <tr>\n",
       "      <th>0</th>\n",
       "      <td>666020888022790149</td>\n",
       "      <td>https://pbs.twimg.com/media/CT4udn0WwAA0aMy.jpg</td>\n",
       "      <td>1</td>\n",
       "      <td>Welsh_springer_spaniel</td>\n",
       "      <td>0.465074</td>\n",
       "      <td>True</td>\n",
       "      <td>collie</td>\n",
       "      <td>0.156665</td>\n",
       "      <td>True</td>\n",
       "      <td>Shetland_sheepdog</td>\n",
       "      <td>0.061428</td>\n",
       "      <td>True</td>\n",
       "    </tr>\n",
       "    <tr>\n",
       "      <th>1</th>\n",
       "      <td>666029285002620928</td>\n",
       "      <td>https://pbs.twimg.com/media/CT42GRgUYAA5iDo.jpg</td>\n",
       "      <td>1</td>\n",
       "      <td>redbone</td>\n",
       "      <td>0.506826</td>\n",
       "      <td>True</td>\n",
       "      <td>miniature_pinscher</td>\n",
       "      <td>0.074192</td>\n",
       "      <td>True</td>\n",
       "      <td>Rhodesian_ridgeback</td>\n",
       "      <td>0.072010</td>\n",
       "      <td>True</td>\n",
       "    </tr>\n",
       "    <tr>\n",
       "      <th>2</th>\n",
       "      <td>666033412701032449</td>\n",
       "      <td>https://pbs.twimg.com/media/CT4521TWwAEvMyu.jpg</td>\n",
       "      <td>1</td>\n",
       "      <td>German_shepherd</td>\n",
       "      <td>0.596461</td>\n",
       "      <td>True</td>\n",
       "      <td>malinois</td>\n",
       "      <td>0.138584</td>\n",
       "      <td>True</td>\n",
       "      <td>bloodhound</td>\n",
       "      <td>0.116197</td>\n",
       "      <td>True</td>\n",
       "    </tr>\n",
       "    <tr>\n",
       "      <th>3</th>\n",
       "      <td>666044226329800704</td>\n",
       "      <td>https://pbs.twimg.com/media/CT5Dr8HUEAA-lEu.jpg</td>\n",
       "      <td>1</td>\n",
       "      <td>Rhodesian_ridgeback</td>\n",
       "      <td>0.408143</td>\n",
       "      <td>True</td>\n",
       "      <td>redbone</td>\n",
       "      <td>0.360687</td>\n",
       "      <td>True</td>\n",
       "      <td>miniature_pinscher</td>\n",
       "      <td>0.222752</td>\n",
       "      <td>True</td>\n",
       "    </tr>\n",
       "    <tr>\n",
       "      <th>4</th>\n",
       "      <td>666049248165822465</td>\n",
       "      <td>https://pbs.twimg.com/media/CT5IQmsXIAAKY4A.jpg</td>\n",
       "      <td>1</td>\n",
       "      <td>miniature_pinscher</td>\n",
       "      <td>0.560311</td>\n",
       "      <td>True</td>\n",
       "      <td>Rottweiler</td>\n",
       "      <td>0.243682</td>\n",
       "      <td>True</td>\n",
       "      <td>Doberman</td>\n",
       "      <td>0.154629</td>\n",
       "      <td>True</td>\n",
       "    </tr>\n",
       "  </tbody>\n",
       "</table>\n",
       "</div>"
      ],
      "text/plain": [
       "             tweet_id                                          jpg_url  \\\n",
       "0  666020888022790149  https://pbs.twimg.com/media/CT4udn0WwAA0aMy.jpg   \n",
       "1  666029285002620928  https://pbs.twimg.com/media/CT42GRgUYAA5iDo.jpg   \n",
       "2  666033412701032449  https://pbs.twimg.com/media/CT4521TWwAEvMyu.jpg   \n",
       "3  666044226329800704  https://pbs.twimg.com/media/CT5Dr8HUEAA-lEu.jpg   \n",
       "4  666049248165822465  https://pbs.twimg.com/media/CT5IQmsXIAAKY4A.jpg   \n",
       "\n",
       "   img_num                      p1   p1_conf  p1_dog                  p2  \\\n",
       "0        1  Welsh_springer_spaniel  0.465074    True              collie   \n",
       "1        1                 redbone  0.506826    True  miniature_pinscher   \n",
       "2        1         German_shepherd  0.596461    True            malinois   \n",
       "3        1     Rhodesian_ridgeback  0.408143    True             redbone   \n",
       "4        1      miniature_pinscher  0.560311    True          Rottweiler   \n",
       "\n",
       "    p2_conf  p2_dog                   p3   p3_conf  p3_dog  \n",
       "0  0.156665    True    Shetland_sheepdog  0.061428    True  \n",
       "1  0.074192    True  Rhodesian_ridgeback  0.072010    True  \n",
       "2  0.138584    True           bloodhound  0.116197    True  \n",
       "3  0.360687    True   miniature_pinscher  0.222752    True  \n",
       "4  0.243682    True             Doberman  0.154629    True  "
      ]
     },
     "execution_count": 7,
     "metadata": {},
     "output_type": "execute_result"
    }
   ],
   "source": [
    "images.head()"
   ]
  },
  {
   "cell_type": "code",
   "execution_count": 8,
   "metadata": {},
   "outputs": [
    {
     "name": "stdout",
     "output_type": "stream",
     "text": [
      "<class 'pandas.core.frame.DataFrame'>\n",
      "RangeIndex: 2075 entries, 0 to 2074\n",
      "Data columns (total 12 columns):\n",
      " #   Column    Non-Null Count  Dtype  \n",
      "---  ------    --------------  -----  \n",
      " 0   tweet_id  2075 non-null   int64  \n",
      " 1   jpg_url   2075 non-null   object \n",
      " 2   img_num   2075 non-null   int64  \n",
      " 3   p1        2075 non-null   object \n",
      " 4   p1_conf   2075 non-null   float64\n",
      " 5   p1_dog    2075 non-null   bool   \n",
      " 6   p2        2075 non-null   object \n",
      " 7   p2_conf   2075 non-null   float64\n",
      " 8   p2_dog    2075 non-null   bool   \n",
      " 9   p3        2075 non-null   object \n",
      " 10  p3_conf   2075 non-null   float64\n",
      " 11  p3_dog    2075 non-null   bool   \n",
      "dtypes: bool(3), float64(3), int64(2), object(4)\n",
      "memory usage: 152.1+ KB\n"
     ]
    }
   ],
   "source": [
    "images.info()"
   ]
  },
  {
   "cell_type": "code",
   "execution_count": 9,
   "metadata": {},
   "outputs": [
    {
     "data": {
      "text/html": [
       "<div>\n",
       "<style scoped>\n",
       "    .dataframe tbody tr th:only-of-type {\n",
       "        vertical-align: middle;\n",
       "    }\n",
       "\n",
       "    .dataframe tbody tr th {\n",
       "        vertical-align: top;\n",
       "    }\n",
       "\n",
       "    .dataframe thead th {\n",
       "        text-align: right;\n",
       "    }\n",
       "</style>\n",
       "<table border=\"1\" class=\"dataframe\">\n",
       "  <thead>\n",
       "    <tr style=\"text-align: right;\">\n",
       "      <th></th>\n",
       "      <th>tweet_id</th>\n",
       "      <th>retweet_count</th>\n",
       "      <th>favorite_count</th>\n",
       "    </tr>\n",
       "  </thead>\n",
       "  <tbody>\n",
       "    <tr>\n",
       "      <th>0</th>\n",
       "      <td>892420643555336193</td>\n",
       "      <td>8853</td>\n",
       "      <td>39467</td>\n",
       "    </tr>\n",
       "    <tr>\n",
       "      <th>1</th>\n",
       "      <td>892177421306343426</td>\n",
       "      <td>6514</td>\n",
       "      <td>33819</td>\n",
       "    </tr>\n",
       "    <tr>\n",
       "      <th>2</th>\n",
       "      <td>891815181378084864</td>\n",
       "      <td>4328</td>\n",
       "      <td>25461</td>\n",
       "    </tr>\n",
       "    <tr>\n",
       "      <th>3</th>\n",
       "      <td>891689557279858688</td>\n",
       "      <td>8964</td>\n",
       "      <td>42908</td>\n",
       "    </tr>\n",
       "    <tr>\n",
       "      <th>4</th>\n",
       "      <td>891327558926688256</td>\n",
       "      <td>9774</td>\n",
       "      <td>41048</td>\n",
       "    </tr>\n",
       "  </tbody>\n",
       "</table>\n",
       "</div>"
      ],
      "text/plain": [
       "             tweet_id  retweet_count  favorite_count\n",
       "0  892420643555336193           8853           39467\n",
       "1  892177421306343426           6514           33819\n",
       "2  891815181378084864           4328           25461\n",
       "3  891689557279858688           8964           42908\n",
       "4  891327558926688256           9774           41048"
      ]
     },
     "execution_count": 9,
     "metadata": {},
     "output_type": "execute_result"
    }
   ],
   "source": [
    "tweets.head()"
   ]
  },
  {
   "cell_type": "code",
   "execution_count": 10,
   "metadata": {},
   "outputs": [
    {
     "name": "stdout",
     "output_type": "stream",
     "text": [
      "<class 'pandas.core.frame.DataFrame'>\n",
      "RangeIndex: 2354 entries, 0 to 2353\n",
      "Data columns (total 3 columns):\n",
      " #   Column          Non-Null Count  Dtype\n",
      "---  ------          --------------  -----\n",
      " 0   tweet_id        2354 non-null   int64\n",
      " 1   retweet_count   2354 non-null   int64\n",
      " 2   favorite_count  2354 non-null   int64\n",
      "dtypes: int64(3)\n",
      "memory usage: 55.3 KB\n"
     ]
    }
   ],
   "source": [
    "tweets.info()"
   ]
  },
  {
   "cell_type": "markdown",
   "metadata": {},
   "source": [
    "### Data cleanliness"
   ]
  },
  {
   "cell_type": "markdown",
   "metadata": {},
   "source": [
    "__In `archive` dataframe:__\n",
    "1. The `timestamp` and `retweeted_status_timestamp` columns are string.\n",
    "2. Some data is missing in the `name` column.\n",
    "3. Some data is missing in the 'stage' variables.\n",
    "4. Missing data are listed as 'None' instead of NaN.\n",
    "5. Some tweets are retweets.\n",
    "6. Some tweets are just not dog ratings.\n",
    "7. Name is sometimes incorrectly extracted. E.g. (\"my\" in index 852, \"Al\" in index 820)\n",
    "8. Numenator is somtimes incorrectly extracted. Sometimes it's a float.\n",
    "9. Sometimes the 'stage' is incorrectly extracted. The tweet sometimes uses \"pupper\" in a verb format like \"puppaled\" or \"puppared\". At least once, it's reported as \"puppa\".\n",
    "\n",
    "__In `images` dataframe:__\n",
    "\n",
    "10. The number of images are significantly lower than the number of tweets. We may be missing some images here.\n",
    "\n",
    "__In `tweets` dataframe:__\n",
    "\n",
    "11. Looks like at least two tweets are missing here."
   ]
  },
  {
   "cell_type": "markdown",
   "metadata": {},
   "source": [
    "### Data tidiness"
   ]
  },
  {
   "cell_type": "markdown",
   "metadata": {},
   "source": [
    "1. The last 4 columns in the `archive` dataframe are actually variables. Should be grouped in one column called 'stage'.\n",
    "2. The `archive` and `tweets` dataframes should be combined into one dataframe.\n",
    "3. Perhaps \"dog_breed\" and \"confidence_level\" columns would be useful in the combined dataframe."
   ]
  },
  {
   "cell_type": "markdown",
   "metadata": {},
   "source": [
    "## Clean"
   ]
  },
  {
   "cell_type": "markdown",
   "metadata": {},
   "source": [
    "### Define\n",
    "1. Remove all retweets. To identify them, either their text begins with \"RT\" or they have a non-Null `retweeted_status_id`. **(Cleanliness issue #5)**\n",
    "2. Drop all retweet-related columns. **(Cleanliness issue #5)**\n",
    "2. Remove tweets that are not dog ratings. To identify them, they contain phrases like \"We only rate dogs\". **(Cleanliness issue #6)**\n",
    "3. Another more effective way to remove tweets that are not dog ratings is by using the images data frame. Remove all tweets where `p1_dog` is `False`. **(Cleanliness issue #6)**\n",
    "4. Convert all \"None\" values in the `name` column *only* in the `archive` to NaN. The last four columns will be dropped anyway. **(Cleanliness issue #4)**\n",
    "5. Convert `timestamp` to datetime. The `retweeted_status_timestamp` is dropped by now. **(Cleanliness issue #1)**\n",
    "6. Redefine the regular expression for extracting dog name. This should solve empty names and wrong names issue. **(Cleanliness issue #2 & #7)**\n",
    "7. Improve the regular expression for extracting the rating. Sometimes numerator is a float. **(Cleanliness issue #8)**\n",
    "8. Convert the `rating_numerator` column to float. **(Cleanliness issue #8)**\n",
    "9. Create a new column in the `archive` dataframe to contain the 'stage' variable. **(Tidiness issue #1)**\n",
    "10. Improve the regular expression to extract the 'stage' variable and populate the column. **(Cleanliness issue #3 & #9)**\n",
    "11. Drop the `doggo`, `floofer`, `pupper` & `puppo` columns. **(Tidiness issue #1)**\n",
    "11. Check to see if we're really missing some images after the above cleaning. **(Cleanliness issue #10)**\n",
    "12. Check to see if we're still missing some tweets from the `tweets` dataframe. **(Cleanliness issue #11)**\n",
    "14. Merge the `archive` and `tweets` dataframes. **(Tidiness issue #2)**\n",
    "15. Merge the `p1` and `p1_conf` columns from the `images` dataframe into the combined dataframe. **(Tidiness issue #3)**"
   ]
  },
  {
   "cell_type": "markdown",
   "metadata": {},
   "source": [
    "### Code"
   ]
  },
  {
   "cell_type": "code",
   "execution_count": 11,
   "metadata": {},
   "outputs": [
    {
     "name": "stdout",
     "output_type": "stream",
     "text": [
      "<class 'pandas.core.frame.DataFrame'>\n",
      "Int64Index: 1614 entries, 1 to 2355\n",
      "Data columns (total 15 columns):\n",
      " #   Column                 Non-Null Count  Dtype              \n",
      "---  ------                 --------------  -----              \n",
      " 0   tweet_id               1614 non-null   int64              \n",
      " 1   in_reply_to_status_id  68 non-null     float64            \n",
      " 2   in_reply_to_user_id    68 non-null     float64            \n",
      " 3   timestamp              1614 non-null   datetime64[ns, UTC]\n",
      " 4   source                 1614 non-null   object             \n",
      " 5   text                   1614 non-null   object             \n",
      " 6   expanded_urls          1556 non-null   object             \n",
      " 7   rating_numerator       1613 non-null   float64            \n",
      " 8   rating_denominator     1613 non-null   float64            \n",
      " 9   name                   1083 non-null   object             \n",
      " 10  doggo                  71 non-null     object             \n",
      " 11  floofer                10 non-null     object             \n",
      " 12  pupper                 174 non-null    object             \n",
      " 13  puppo                  22 non-null     object             \n",
      " 14  stage                  320 non-null    object             \n",
      "dtypes: datetime64[ns, UTC](1), float64(4), int64(1), object(9)\n",
      "memory usage: 201.8+ KB\n"
     ]
    }
   ],
   "source": [
    "# make a copy of each dataframe first\n",
    "archive_c = archive.copy()\n",
    "images_c = images.copy()\n",
    "tweets_c = tweets.copy()\n",
    "\n",
    "# 1. remove retweets from the archive\n",
    "archive_c = archive_c[archive_c.retweeted_status_id.isnull()]\n",
    "\n",
    "# 2. drop all retweet related columns\n",
    "archive_c.drop(columns=['retweeted_status_id', 'retweeted_status_user_id', 'retweeted_status_timestamp'], inplace=True)\n",
    "\n",
    "# 3. remove tweets that are not dog ratings based on tweet text\n",
    "archive_c = archive_c[~archive_c.text.str.lower().str.contains('we only rate dogs')]\n",
    "\n",
    "# 4. remove tweets that are not dog ratings based on image predictions\n",
    "non_dog_tweets = images_c[~images_c.p1_dog]['tweet_id']\n",
    "archive_c = archive_c[~archive_c.tweet_id.isin(non_dog_tweets)]\n",
    "\n",
    "# 5. convert all \"None\" to NaN\n",
    "archive_c[archive_c == 'None'] = np.nan\n",
    "\n",
    "# 6. convert the timestamp into datetime\n",
    "archive_c.timestamp = pd.to_datetime(archive_c.timestamp)\n",
    "\n",
    "# 7. Redifne reg-exp for the name column to improve extraction\n",
    "pat = r'((This is|Meet|Say hello to|(is|er) name is)\\s[A-Z][a-z]+\\s?([A-Z][a-z]+)?)'\n",
    "archive_c.name = archive_c.text.str.extract(pat, expand=False)\n",
    "#clear the preceeding phrases\n",
    "archive_c.name = archive_c.name.str.replace('This is ', '', regex=False)\n",
    "archive_c.name = archive_c.name.str.replace('Meet ', '', regex=False)\n",
    "archive_c.name = archive_c.name.str.replace('Say hello to ', '', regex=False)\n",
    "archive_c.name = archive_c.name.str.replace('is name is ', '', regex=False)\n",
    "archive_c.name = archive_c.name.str.replace('er name is ', '', regex=False)\n",
    "#strip white spaces\n",
    "archive_c.name = archive_c.name.str.strip()\n",
    "\n",
    "# 8. improve reg exp for rating\n",
    "pat = r'(\\d+\\.?\\d*?\\/[1-9]\\d+)'\n",
    "archive_c['temp'] = archive_c.text.str.extract(pat, expand=False) #temp column to hold the whole rating\n",
    "archive_c[['rating_numerator', 'rating_denominator']] = archive_c.temp.str.split(pat='/', expand=True)\n",
    "archive_c.drop(columns='temp', inplace=True)\n",
    "\n",
    "# 9. convert the numerator and denominator columns to float\n",
    "archive_c['rating_numerator'] = archive_c.rating_numerator.astype('Float64')\n",
    "archive_c.rating_denominator = archive_c.rating_denominator.astype('Float64')\n",
    "\n",
    "# 10. & 11. create the stage column and populate it with the correct stage\n",
    "pat = r'(doggo|floof|floofer|pupper|puppalled|puppared|puppa|puppo)'\n",
    "archive_c['stage'] = archive_c.text.str.extract(pat, flags=re.IGNORECASE, expand=False).str.lower()\n",
    "archive_c.stage = archive_c.stage.str.replace('floof', 'floofer')\n",
    "archive_c.stage = archive_c.stage.str.replace('puppalled', 'pupper')\n",
    "archive_c.stage = archive_c.stage.str.replace('puppared', 'pupper')\n",
    "archive_c.stage = archive_c.stage.str.replace('puppa', 'pupper')\n",
    "archive_c.info()\n",
    "\n",
    "# 12. drop the dog stage columns\n",
    "archive_c.drop(columns=['doggo', 'floofer', 'pupper', 'puppo'], inplace=True)"
   ]
  },
  {
   "cell_type": "code",
   "execution_count": 12,
   "metadata": {},
   "outputs": [
    {
     "data": {
      "text/plain": [
       "690"
      ]
     },
     "execution_count": 12,
     "metadata": {},
     "output_type": "execute_result"
    }
   ],
   "source": [
    "# 13. do we really have missing images?\n",
    "tweets_with_img = archive_c[archive_c.expanded_urls.str.contains('/photo/', na=False)]['tweet_id']\n",
    "#is any of those tweets missing from the images data frame? if there are missing tweets, nothing we can do about it\n",
    "len(images_c[~images_c.tweet_id.isin(tweets_with_img)])"
   ]
  },
  {
   "cell_type": "markdown",
   "metadata": {},
   "source": [
    "We're missing a lot of images here. We wouldn't have dog breed values for 690 tweets in the final dataset"
   ]
  },
  {
   "cell_type": "code",
   "execution_count": 13,
   "metadata": {},
   "outputs": [
    {
     "data": {
      "text/plain": [
       "0"
      ]
     },
     "execution_count": 13,
     "metadata": {},
     "output_type": "execute_result"
    }
   ],
   "source": [
    "# 13. do we still have tweets missing from the twitter API dataframe?\n",
    "len(archive_c[~archive_c.tweet_id.isin(tweets_c.tweet_id)])"
   ]
  },
  {
   "cell_type": "markdown",
   "metadata": {},
   "source": [
    "Great! All tweets in the cleaned archive are retrieved in the tweets from the API. The apprently missing ones must have been cleaned in the above cleaning process"
   ]
  },
  {
   "cell_type": "code",
   "execution_count": 14,
   "metadata": {},
   "outputs": [
    {
     "name": "stdout",
     "output_type": "stream",
     "text": [
      "<class 'pandas.core.frame.DataFrame'>\n",
      "Int64Index: 1614 entries, 0 to 1613\n",
      "Data columns (total 13 columns):\n",
      " #   Column                 Non-Null Count  Dtype              \n",
      "---  ------                 --------------  -----              \n",
      " 0   tweet_id               1614 non-null   int64              \n",
      " 1   in_reply_to_status_id  68 non-null     float64            \n",
      " 2   in_reply_to_user_id    68 non-null     float64            \n",
      " 3   timestamp              1614 non-null   datetime64[ns, UTC]\n",
      " 4   source                 1614 non-null   object             \n",
      " 5   text                   1614 non-null   object             \n",
      " 6   expanded_urls          1556 non-null   object             \n",
      " 7   rating_numerator       1613 non-null   float64            \n",
      " 8   rating_denominator     1613 non-null   float64            \n",
      " 9   name                   1083 non-null   object             \n",
      " 10  stage                  320 non-null    object             \n",
      " 11  retweet_count          1614 non-null   int64              \n",
      " 12  favorite_count         1614 non-null   int64              \n",
      "dtypes: datetime64[ns, UTC](1), float64(4), int64(3), object(5)\n",
      "memory usage: 176.5+ KB\n"
     ]
    }
   ],
   "source": [
    "# 15. merge the archive and tweets dataframes\n",
    "df = pd.merge(archive_c, tweets_c, how='left', on='tweet_id')\n",
    "df.info()"
   ]
  },
  {
   "cell_type": "code",
   "execution_count": 15,
   "metadata": {},
   "outputs": [
    {
     "name": "stdout",
     "output_type": "stream",
     "text": [
      "<class 'pandas.core.frame.DataFrame'>\n",
      "Int64Index: 1614 entries, 0 to 1613\n",
      "Data columns (total 15 columns):\n",
      " #   Column                 Non-Null Count  Dtype              \n",
      "---  ------                 --------------  -----              \n",
      " 0   tweet_id               1614 non-null   int64              \n",
      " 1   in_reply_to_status_id  68 non-null     float64            \n",
      " 2   in_reply_to_user_id    68 non-null     float64            \n",
      " 3   timestamp              1614 non-null   datetime64[ns, UTC]\n",
      " 4   source                 1614 non-null   object             \n",
      " 5   text                   1614 non-null   object             \n",
      " 6   expanded_urls          1556 non-null   object             \n",
      " 7   rating_numerator       1613 non-null   float64            \n",
      " 8   rating_denominator     1613 non-null   float64            \n",
      " 9   name                   1083 non-null   object             \n",
      " 10  stage                  320 non-null    object             \n",
      " 11  retweet_count          1614 non-null   int64              \n",
      " 12  favorite_count         1614 non-null   int64              \n",
      " 13  p1                     1433 non-null   object             \n",
      " 14  p1_conf                1433 non-null   float64            \n",
      "dtypes: datetime64[ns, UTC](1), float64(5), int64(3), object(6)\n",
      "memory usage: 201.8+ KB\n"
     ]
    }
   ],
   "source": [
    "# 16. merge the p1 and p1_conf columns from the images dataframe into the combined dataframe\n",
    "df = pd.merge(df, images_c[['tweet_id', 'p1', 'p1_conf']], how='left', on='tweet_id')\n",
    "df.info()"
   ]
  },
  {
   "cell_type": "code",
   "execution_count": 16,
   "metadata": {},
   "outputs": [
    {
     "name": "stdout",
     "output_type": "stream",
     "text": [
      "<class 'pandas.core.frame.DataFrame'>\n",
      "Int64Index: 1614 entries, 0 to 1613\n",
      "Data columns (total 15 columns):\n",
      " #   Column                 Non-Null Count  Dtype              \n",
      "---  ------                 --------------  -----              \n",
      " 0   tweet_id               1614 non-null   int64              \n",
      " 1   in_reply_to_status_id  68 non-null     float64            \n",
      " 2   in_reply_to_user_id    68 non-null     float64            \n",
      " 3   timestamp              1614 non-null   datetime64[ns, UTC]\n",
      " 4   source                 1614 non-null   object             \n",
      " 5   text                   1614 non-null   object             \n",
      " 6   expanded_urls          1556 non-null   object             \n",
      " 7   rating_numerator       1613 non-null   float64            \n",
      " 8   rating_denominator     1613 non-null   float64            \n",
      " 9   name                   1083 non-null   object             \n",
      " 10  stage                  320 non-null    object             \n",
      " 11  retweet_count          1614 non-null   int64              \n",
      " 12  favorite_count         1614 non-null   int64              \n",
      " 13  dog_breed              1433 non-null   object             \n",
      " 14  confidence             1433 non-null   float64            \n",
      "dtypes: datetime64[ns, UTC](1), float64(5), int64(3), object(6)\n",
      "memory usage: 201.8+ KB\n"
     ]
    }
   ],
   "source": [
    "# rename the dog breed columns to more meaningful names\n",
    "df.rename(columns={'p1': 'dog_breed', 'p1_conf': 'confidence'}, inplace=True)\n",
    "df.info()"
   ]
  },
  {
   "cell_type": "markdown",
   "metadata": {},
   "source": [
    "### Test"
   ]
  },
  {
   "cell_type": "markdown",
   "metadata": {},
   "source": [
    "Judging by the above printout of the df.info(), the following improvements are confirmed:\n",
    "- All needed data are now in one concise well-formated dataset.\n",
    "- The `timestamp` column dtype is corrected.\n",
    "- The `rating_numerator` is now a float"
   ]
  },
  {
   "cell_type": "markdown",
   "metadata": {},
   "source": [
    "Previously, we had wrong dog names. Is the situation improved?"
   ]
  },
  {
   "cell_type": "code",
   "execution_count": 17,
   "metadata": {},
   "outputs": [
    {
     "data": {
      "text/html": [
       "<div>\n",
       "<style scoped>\n",
       "    .dataframe tbody tr th:only-of-type {\n",
       "        vertical-align: middle;\n",
       "    }\n",
       "\n",
       "    .dataframe tbody tr th {\n",
       "        vertical-align: top;\n",
       "    }\n",
       "\n",
       "    .dataframe thead th {\n",
       "        text-align: right;\n",
       "    }\n",
       "</style>\n",
       "<table border=\"1\" class=\"dataframe\">\n",
       "  <thead>\n",
       "    <tr style=\"text-align: right;\">\n",
       "      <th></th>\n",
       "      <th>text</th>\n",
       "      <th>name</th>\n",
       "    </tr>\n",
       "  </thead>\n",
       "  <tbody>\n",
       "    <tr>\n",
       "      <th>47</th>\n",
       "      <td>Here is a pupper approaching maximum borkdrive...</td>\n",
       "      <td>NaN</td>\n",
       "    </tr>\n",
       "    <tr>\n",
       "      <th>656</th>\n",
       "      <td>This is a mighty rare blue-tailed hammer sherk...</td>\n",
       "      <td>NaN</td>\n",
       "    </tr>\n",
       "    <tr>\n",
       "      <th>658</th>\n",
       "      <td>Viewer discretion is advised. This is a terrib...</td>\n",
       "      <td>NaN</td>\n",
       "    </tr>\n",
       "    <tr>\n",
       "      <th>688</th>\n",
       "      <td>This is a very rare Great Alaskan Bush Pupper....</td>\n",
       "      <td>NaN</td>\n",
       "    </tr>\n",
       "    <tr>\n",
       "      <th>698</th>\n",
       "      <td>This is just downright precious af. 12/10 for ...</td>\n",
       "      <td>NaN</td>\n",
       "    </tr>\n",
       "    <tr>\n",
       "      <th>907</th>\n",
       "      <td>Here is a heartbreaking scene of an incredible...</td>\n",
       "      <td>NaN</td>\n",
       "    </tr>\n",
       "    <tr>\n",
       "      <th>914</th>\n",
       "      <td>Here is a whole flock of puppers.  60/50 I'll ...</td>\n",
       "      <td>NaN</td>\n",
       "    </tr>\n",
       "    <tr>\n",
       "      <th>920</th>\n",
       "      <td>This is a Butternut Cumberfloof. It's not wind...</td>\n",
       "      <td>NaN</td>\n",
       "    </tr>\n",
       "    <tr>\n",
       "      <th>925</th>\n",
       "      <td>This is a Wild Tuscan Poofwiggle. Careful not ...</td>\n",
       "      <td>NaN</td>\n",
       "    </tr>\n",
       "    <tr>\n",
       "      <th>938</th>\n",
       "      <td>\"Pupper is a present to world. Here is a bow f...</td>\n",
       "      <td>NaN</td>\n",
       "    </tr>\n",
       "    <tr>\n",
       "      <th>997</th>\n",
       "      <td>This is just a beautiful pupper good shit evol...</td>\n",
       "      <td>NaN</td>\n",
       "    </tr>\n",
       "    <tr>\n",
       "      <th>1029</th>\n",
       "      <td>This is a rare Arctic Wubberfloof. Unamused by...</td>\n",
       "      <td>NaN</td>\n",
       "    </tr>\n",
       "    <tr>\n",
       "      <th>1237</th>\n",
       "      <td>This is a dog swinging. I really enjoyed it so...</td>\n",
       "      <td>NaN</td>\n",
       "    </tr>\n",
       "    <tr>\n",
       "      <th>1286</th>\n",
       "      <td>This is a Sizzlin Menorah spaniel from Brookly...</td>\n",
       "      <td>NaN</td>\n",
       "    </tr>\n",
       "    <tr>\n",
       "      <th>1287</th>\n",
       "      <td>Seriously guys?! Only send in dogs. I only rat...</td>\n",
       "      <td>NaN</td>\n",
       "    </tr>\n",
       "    <tr>\n",
       "      <th>1302</th>\n",
       "      <td>This is a fluffy albino Bacardi Columbia mix. ...</td>\n",
       "      <td>NaN</td>\n",
       "    </tr>\n",
       "    <tr>\n",
       "      <th>1333</th>\n",
       "      <td>This is a Sagitariot Baklava mix. Loves her ne...</td>\n",
       "      <td>NaN</td>\n",
       "    </tr>\n",
       "    <tr>\n",
       "      <th>1380</th>\n",
       "      <td>This is a baby Rand Paul. Curls for days. 11/1...</td>\n",
       "      <td>NaN</td>\n",
       "    </tr>\n",
       "    <tr>\n",
       "      <th>1406</th>\n",
       "      <td>This is a Tuscaloosa Alcatraz named Jacob (Yac...</td>\n",
       "      <td>NaN</td>\n",
       "    </tr>\n",
       "    <tr>\n",
       "      <th>1424</th>\n",
       "      <td>This is a Helvetica Listerine named Rufus. Thi...</td>\n",
       "      <td>NaN</td>\n",
       "    </tr>\n",
       "    <tr>\n",
       "      <th>1461</th>\n",
       "      <td>This is a Speckled Cauliflower Yosemite named ...</td>\n",
       "      <td>NaN</td>\n",
       "    </tr>\n",
       "    <tr>\n",
       "      <th>1480</th>\n",
       "      <td>This is a Coriander Baton Rouge named Alfredo....</td>\n",
       "      <td>NaN</td>\n",
       "    </tr>\n",
       "    <tr>\n",
       "      <th>1499</th>\n",
       "      <td>This is a Slovakian Helter Skelter Feta named ...</td>\n",
       "      <td>NaN</td>\n",
       "    </tr>\n",
       "    <tr>\n",
       "      <th>1505</th>\n",
       "      <td>This is a wild Toblerone from Papua New Guinea...</td>\n",
       "      <td>NaN</td>\n",
       "    </tr>\n",
       "    <tr>\n",
       "      <th>1518</th>\n",
       "      <td>This is a Birmingham Quagmire named Chuk. Love...</td>\n",
       "      <td>NaN</td>\n",
       "    </tr>\n",
       "    <tr>\n",
       "      <th>1529</th>\n",
       "      <td>This is a Trans Siberian Kellogg named Alfonso...</td>\n",
       "      <td>NaN</td>\n",
       "    </tr>\n",
       "    <tr>\n",
       "      <th>1535</th>\n",
       "      <td>This is a Shotokon Macadamia mix named Cheryl....</td>\n",
       "      <td>NaN</td>\n",
       "    </tr>\n",
       "    <tr>\n",
       "      <th>1539</th>\n",
       "      <td>This is a rare Hungarian Pinot named Jessiga. ...</td>\n",
       "      <td>NaN</td>\n",
       "    </tr>\n",
       "    <tr>\n",
       "      <th>1543</th>\n",
       "      <td>This is a southwest Coriander named Klint. Hat...</td>\n",
       "      <td>NaN</td>\n",
       "    </tr>\n",
       "    <tr>\n",
       "      <th>1551</th>\n",
       "      <td>This is a northern Wahoo named Kohl. He runs t...</td>\n",
       "      <td>NaN</td>\n",
       "    </tr>\n",
       "    <tr>\n",
       "      <th>1561</th>\n",
       "      <td>This is a Dasani Kingfisher from Maine. His na...</td>\n",
       "      <td>Daryl</td>\n",
       "    </tr>\n",
       "    <tr>\n",
       "      <th>1579</th>\n",
       "      <td>This is a purebred Bacardi named Octaviath. Ca...</td>\n",
       "      <td>NaN</td>\n",
       "    </tr>\n",
       "    <tr>\n",
       "      <th>1581</th>\n",
       "      <td>This is a golden Buckminsterfullerene named Jo...</td>\n",
       "      <td>NaN</td>\n",
       "    </tr>\n",
       "    <tr>\n",
       "      <th>1592</th>\n",
       "      <td>This is a southern Vesuvius bumblegruff. Can d...</td>\n",
       "      <td>NaN</td>\n",
       "    </tr>\n",
       "    <tr>\n",
       "      <th>1607</th>\n",
       "      <td>Here is a Siberian heavily armored polar bear ...</td>\n",
       "      <td>NaN</td>\n",
       "    </tr>\n",
       "    <tr>\n",
       "      <th>1608</th>\n",
       "      <td>This is a truly beautiful English Wilson Staff...</td>\n",
       "      <td>NaN</td>\n",
       "    </tr>\n",
       "    <tr>\n",
       "      <th>1610</th>\n",
       "      <td>This is a purebred Piers Morgan. Loves to Netf...</td>\n",
       "      <td>NaN</td>\n",
       "    </tr>\n",
       "    <tr>\n",
       "      <th>1611</th>\n",
       "      <td>Here is a very happy pup. Big fan of well-main...</td>\n",
       "      <td>NaN</td>\n",
       "    </tr>\n",
       "    <tr>\n",
       "      <th>1612</th>\n",
       "      <td>This is a western brown Mitsubishi terrier. Up...</td>\n",
       "      <td>NaN</td>\n",
       "    </tr>\n",
       "  </tbody>\n",
       "</table>\n",
       "</div>"
      ],
      "text/plain": [
       "                                                   text   name\n",
       "47    Here is a pupper approaching maximum borkdrive...    NaN\n",
       "656   This is a mighty rare blue-tailed hammer sherk...    NaN\n",
       "658   Viewer discretion is advised. This is a terrib...    NaN\n",
       "688   This is a very rare Great Alaskan Bush Pupper....    NaN\n",
       "698   This is just downright precious af. 12/10 for ...    NaN\n",
       "907   Here is a heartbreaking scene of an incredible...    NaN\n",
       "914   Here is a whole flock of puppers.  60/50 I'll ...    NaN\n",
       "920   This is a Butternut Cumberfloof. It's not wind...    NaN\n",
       "925   This is a Wild Tuscan Poofwiggle. Careful not ...    NaN\n",
       "938   \"Pupper is a present to world. Here is a bow f...    NaN\n",
       "997   This is just a beautiful pupper good shit evol...    NaN\n",
       "1029  This is a rare Arctic Wubberfloof. Unamused by...    NaN\n",
       "1237  This is a dog swinging. I really enjoyed it so...    NaN\n",
       "1286  This is a Sizzlin Menorah spaniel from Brookly...    NaN\n",
       "1287  Seriously guys?! Only send in dogs. I only rat...    NaN\n",
       "1302  This is a fluffy albino Bacardi Columbia mix. ...    NaN\n",
       "1333  This is a Sagitariot Baklava mix. Loves her ne...    NaN\n",
       "1380  This is a baby Rand Paul. Curls for days. 11/1...    NaN\n",
       "1406  This is a Tuscaloosa Alcatraz named Jacob (Yac...    NaN\n",
       "1424  This is a Helvetica Listerine named Rufus. Thi...    NaN\n",
       "1461  This is a Speckled Cauliflower Yosemite named ...    NaN\n",
       "1480  This is a Coriander Baton Rouge named Alfredo....    NaN\n",
       "1499  This is a Slovakian Helter Skelter Feta named ...    NaN\n",
       "1505  This is a wild Toblerone from Papua New Guinea...    NaN\n",
       "1518  This is a Birmingham Quagmire named Chuk. Love...    NaN\n",
       "1529  This is a Trans Siberian Kellogg named Alfonso...    NaN\n",
       "1535  This is a Shotokon Macadamia mix named Cheryl....    NaN\n",
       "1539  This is a rare Hungarian Pinot named Jessiga. ...    NaN\n",
       "1543  This is a southwest Coriander named Klint. Hat...    NaN\n",
       "1551  This is a northern Wahoo named Kohl. He runs t...    NaN\n",
       "1561  This is a Dasani Kingfisher from Maine. His na...  Daryl\n",
       "1579  This is a purebred Bacardi named Octaviath. Ca...    NaN\n",
       "1581  This is a golden Buckminsterfullerene named Jo...    NaN\n",
       "1592  This is a southern Vesuvius bumblegruff. Can d...    NaN\n",
       "1607  Here is a Siberian heavily armored polar bear ...    NaN\n",
       "1608  This is a truly beautiful English Wilson Staff...    NaN\n",
       "1610  This is a purebred Piers Morgan. Loves to Netf...    NaN\n",
       "1611  Here is a very happy pup. Big fan of well-main...    NaN\n",
       "1612  This is a western brown Mitsubishi terrier. Up...    NaN"
      ]
     },
     "execution_count": 17,
     "metadata": {},
     "output_type": "execute_result"
    }
   ],
   "source": [
    "wrong_name_tweets = archive[archive.name.isin(['a', 'very', 'just'])]['tweet_id'] #just for example of incorrect names\n",
    "df[df.tweet_id.isin(wrong_name_tweets)][['text', 'name']]"
   ]
  },
  {
   "cell_type": "markdown",
   "metadata": {},
   "source": [
    "OOPs! That's a lot of NaN's. Let's improve that again"
   ]
  },
  {
   "cell_type": "code",
   "execution_count": 18,
   "metadata": {},
   "outputs": [
    {
     "data": {
      "text/html": [
       "<div>\n",
       "<style scoped>\n",
       "    .dataframe tbody tr th:only-of-type {\n",
       "        vertical-align: middle;\n",
       "    }\n",
       "\n",
       "    .dataframe tbody tr th {\n",
       "        vertical-align: top;\n",
       "    }\n",
       "\n",
       "    .dataframe thead th {\n",
       "        text-align: right;\n",
       "    }\n",
       "</style>\n",
       "<table border=\"1\" class=\"dataframe\">\n",
       "  <thead>\n",
       "    <tr style=\"text-align: right;\">\n",
       "      <th></th>\n",
       "      <th>text</th>\n",
       "      <th>name</th>\n",
       "    </tr>\n",
       "  </thead>\n",
       "  <tbody>\n",
       "    <tr>\n",
       "      <th>47</th>\n",
       "      <td>Here is a pupper approaching maximum borkdrive...</td>\n",
       "      <td>NaN</td>\n",
       "    </tr>\n",
       "    <tr>\n",
       "      <th>656</th>\n",
       "      <td>This is a mighty rare blue-tailed hammer sherk...</td>\n",
       "      <td>NaN</td>\n",
       "    </tr>\n",
       "    <tr>\n",
       "      <th>658</th>\n",
       "      <td>Viewer discretion is advised. This is a terrib...</td>\n",
       "      <td>NaN</td>\n",
       "    </tr>\n",
       "    <tr>\n",
       "      <th>688</th>\n",
       "      <td>This is a very rare Great Alaskan Bush Pupper....</td>\n",
       "      <td>NaN</td>\n",
       "    </tr>\n",
       "    <tr>\n",
       "      <th>698</th>\n",
       "      <td>This is just downright precious af. 12/10 for ...</td>\n",
       "      <td>NaN</td>\n",
       "    </tr>\n",
       "    <tr>\n",
       "      <th>907</th>\n",
       "      <td>Here is a heartbreaking scene of an incredible...</td>\n",
       "      <td>NaN</td>\n",
       "    </tr>\n",
       "    <tr>\n",
       "      <th>914</th>\n",
       "      <td>Here is a whole flock of puppers.  60/50 I'll ...</td>\n",
       "      <td>NaN</td>\n",
       "    </tr>\n",
       "    <tr>\n",
       "      <th>920</th>\n",
       "      <td>This is a Butternut Cumberfloof. It's not wind...</td>\n",
       "      <td>NaN</td>\n",
       "    </tr>\n",
       "    <tr>\n",
       "      <th>925</th>\n",
       "      <td>This is a Wild Tuscan Poofwiggle. Careful not ...</td>\n",
       "      <td>NaN</td>\n",
       "    </tr>\n",
       "    <tr>\n",
       "      <th>938</th>\n",
       "      <td>\"Pupper is a present to world. Here is a bow f...</td>\n",
       "      <td>NaN</td>\n",
       "    </tr>\n",
       "    <tr>\n",
       "      <th>997</th>\n",
       "      <td>This is just a beautiful pupper good shit evol...</td>\n",
       "      <td>NaN</td>\n",
       "    </tr>\n",
       "    <tr>\n",
       "      <th>1029</th>\n",
       "      <td>This is a rare Arctic Wubberfloof. Unamused by...</td>\n",
       "      <td>NaN</td>\n",
       "    </tr>\n",
       "    <tr>\n",
       "      <th>1237</th>\n",
       "      <td>This is a dog swinging. I really enjoyed it so...</td>\n",
       "      <td>NaN</td>\n",
       "    </tr>\n",
       "    <tr>\n",
       "      <th>1286</th>\n",
       "      <td>This is a Sizzlin Menorah spaniel from Brookly...</td>\n",
       "      <td>Wylie</td>\n",
       "    </tr>\n",
       "    <tr>\n",
       "      <th>1287</th>\n",
       "      <td>Seriously guys?! Only send in dogs. I only rat...</td>\n",
       "      <td>NaN</td>\n",
       "    </tr>\n",
       "    <tr>\n",
       "      <th>1302</th>\n",
       "      <td>This is a fluffy albino Bacardi Columbia mix. ...</td>\n",
       "      <td>NaN</td>\n",
       "    </tr>\n",
       "    <tr>\n",
       "      <th>1333</th>\n",
       "      <td>This is a Sagitariot Baklava mix. Loves her ne...</td>\n",
       "      <td>NaN</td>\n",
       "    </tr>\n",
       "    <tr>\n",
       "      <th>1380</th>\n",
       "      <td>This is a baby Rand Paul. Curls for days. 11/1...</td>\n",
       "      <td>NaN</td>\n",
       "    </tr>\n",
       "    <tr>\n",
       "      <th>1406</th>\n",
       "      <td>This is a Tuscaloosa Alcatraz named Jacob (Yac...</td>\n",
       "      <td>Jacob</td>\n",
       "    </tr>\n",
       "    <tr>\n",
       "      <th>1424</th>\n",
       "      <td>This is a Helvetica Listerine named Rufus. Thi...</td>\n",
       "      <td>Rufus</td>\n",
       "    </tr>\n",
       "    <tr>\n",
       "      <th>1461</th>\n",
       "      <td>This is a Speckled Cauliflower Yosemite named ...</td>\n",
       "      <td>Hemry</td>\n",
       "    </tr>\n",
       "    <tr>\n",
       "      <th>1480</th>\n",
       "      <td>This is a Coriander Baton Rouge named Alfredo....</td>\n",
       "      <td>Alfredo</td>\n",
       "    </tr>\n",
       "    <tr>\n",
       "      <th>1499</th>\n",
       "      <td>This is a Slovakian Helter Skelter Feta named ...</td>\n",
       "      <td>Leroi</td>\n",
       "    </tr>\n",
       "    <tr>\n",
       "      <th>1505</th>\n",
       "      <td>This is a wild Toblerone from Papua New Guinea...</td>\n",
       "      <td>NaN</td>\n",
       "    </tr>\n",
       "    <tr>\n",
       "      <th>1518</th>\n",
       "      <td>This is a Birmingham Quagmire named Chuk. Love...</td>\n",
       "      <td>Chuk</td>\n",
       "    </tr>\n",
       "    <tr>\n",
       "      <th>1529</th>\n",
       "      <td>This is a Trans Siberian Kellogg named Alfonso...</td>\n",
       "      <td>Alfonso</td>\n",
       "    </tr>\n",
       "    <tr>\n",
       "      <th>1535</th>\n",
       "      <td>This is a Shotokon Macadamia mix named Cheryl....</td>\n",
       "      <td>Cheryl</td>\n",
       "    </tr>\n",
       "    <tr>\n",
       "      <th>1539</th>\n",
       "      <td>This is a rare Hungarian Pinot named Jessiga. ...</td>\n",
       "      <td>Jessiga</td>\n",
       "    </tr>\n",
       "    <tr>\n",
       "      <th>1543</th>\n",
       "      <td>This is a southwest Coriander named Klint. Hat...</td>\n",
       "      <td>Klint</td>\n",
       "    </tr>\n",
       "    <tr>\n",
       "      <th>1551</th>\n",
       "      <td>This is a northern Wahoo named Kohl. He runs t...</td>\n",
       "      <td>Kohl</td>\n",
       "    </tr>\n",
       "    <tr>\n",
       "      <th>1561</th>\n",
       "      <td>This is a Dasani Kingfisher from Maine. His na...</td>\n",
       "      <td>Daryl</td>\n",
       "    </tr>\n",
       "    <tr>\n",
       "      <th>1579</th>\n",
       "      <td>This is a purebred Bacardi named Octaviath. Ca...</td>\n",
       "      <td>Octaviath</td>\n",
       "    </tr>\n",
       "    <tr>\n",
       "      <th>1581</th>\n",
       "      <td>This is a golden Buckminsterfullerene named Jo...</td>\n",
       "      <td>Johm</td>\n",
       "    </tr>\n",
       "    <tr>\n",
       "      <th>1592</th>\n",
       "      <td>This is a southern Vesuvius bumblegruff. Can d...</td>\n",
       "      <td>NaN</td>\n",
       "    </tr>\n",
       "    <tr>\n",
       "      <th>1607</th>\n",
       "      <td>Here is a Siberian heavily armored polar bear ...</td>\n",
       "      <td>NaN</td>\n",
       "    </tr>\n",
       "    <tr>\n",
       "      <th>1608</th>\n",
       "      <td>This is a truly beautiful English Wilson Staff...</td>\n",
       "      <td>NaN</td>\n",
       "    </tr>\n",
       "    <tr>\n",
       "      <th>1610</th>\n",
       "      <td>This is a purebred Piers Morgan. Loves to Netf...</td>\n",
       "      <td>NaN</td>\n",
       "    </tr>\n",
       "    <tr>\n",
       "      <th>1611</th>\n",
       "      <td>Here is a very happy pup. Big fan of well-main...</td>\n",
       "      <td>NaN</td>\n",
       "    </tr>\n",
       "    <tr>\n",
       "      <th>1612</th>\n",
       "      <td>This is a western brown Mitsubishi terrier. Up...</td>\n",
       "      <td>NaN</td>\n",
       "    </tr>\n",
       "  </tbody>\n",
       "</table>\n",
       "</div>"
      ],
      "text/plain": [
       "                                                   text       name\n",
       "47    Here is a pupper approaching maximum borkdrive...        NaN\n",
       "656   This is a mighty rare blue-tailed hammer sherk...        NaN\n",
       "658   Viewer discretion is advised. This is a terrib...        NaN\n",
       "688   This is a very rare Great Alaskan Bush Pupper....        NaN\n",
       "698   This is just downright precious af. 12/10 for ...        NaN\n",
       "907   Here is a heartbreaking scene of an incredible...        NaN\n",
       "914   Here is a whole flock of puppers.  60/50 I'll ...        NaN\n",
       "920   This is a Butternut Cumberfloof. It's not wind...        NaN\n",
       "925   This is a Wild Tuscan Poofwiggle. Careful not ...        NaN\n",
       "938   \"Pupper is a present to world. Here is a bow f...        NaN\n",
       "997   This is just a beautiful pupper good shit evol...        NaN\n",
       "1029  This is a rare Arctic Wubberfloof. Unamused by...        NaN\n",
       "1237  This is a dog swinging. I really enjoyed it so...        NaN\n",
       "1286  This is a Sizzlin Menorah spaniel from Brookly...      Wylie\n",
       "1287  Seriously guys?! Only send in dogs. I only rat...        NaN\n",
       "1302  This is a fluffy albino Bacardi Columbia mix. ...        NaN\n",
       "1333  This is a Sagitariot Baklava mix. Loves her ne...        NaN\n",
       "1380  This is a baby Rand Paul. Curls for days. 11/1...        NaN\n",
       "1406  This is a Tuscaloosa Alcatraz named Jacob (Yac...      Jacob\n",
       "1424  This is a Helvetica Listerine named Rufus. Thi...      Rufus\n",
       "1461  This is a Speckled Cauliflower Yosemite named ...      Hemry\n",
       "1480  This is a Coriander Baton Rouge named Alfredo....    Alfredo\n",
       "1499  This is a Slovakian Helter Skelter Feta named ...      Leroi\n",
       "1505  This is a wild Toblerone from Papua New Guinea...        NaN\n",
       "1518  This is a Birmingham Quagmire named Chuk. Love...       Chuk\n",
       "1529  This is a Trans Siberian Kellogg named Alfonso...    Alfonso\n",
       "1535  This is a Shotokon Macadamia mix named Cheryl....     Cheryl\n",
       "1539  This is a rare Hungarian Pinot named Jessiga. ...    Jessiga\n",
       "1543  This is a southwest Coriander named Klint. Hat...      Klint\n",
       "1551  This is a northern Wahoo named Kohl. He runs t...       Kohl\n",
       "1561  This is a Dasani Kingfisher from Maine. His na...      Daryl\n",
       "1579  This is a purebred Bacardi named Octaviath. Ca...  Octaviath\n",
       "1581  This is a golden Buckminsterfullerene named Jo...       Johm\n",
       "1592  This is a southern Vesuvius bumblegruff. Can d...        NaN\n",
       "1607  Here is a Siberian heavily armored polar bear ...        NaN\n",
       "1608  This is a truly beautiful English Wilson Staff...        NaN\n",
       "1610  This is a purebred Piers Morgan. Loves to Netf...        NaN\n",
       "1611  Here is a very happy pup. Big fan of well-main...        NaN\n",
       "1612  This is a western brown Mitsubishi terrier. Up...        NaN"
      ]
     },
     "execution_count": 18,
     "metadata": {},
     "output_type": "execute_result"
    }
   ],
   "source": [
    "# redifne reg-exp for the name column to improve extraction\n",
    "pat = r'((This is|Meet|Say hello to|(is|er) name is|named)\\s[A-Z][a-z]+\\s?([A-Z][a-z]+)?)'\n",
    "df.name = df.text.str.extract(pat, expand=False)\n",
    "#clear the preceeding phrases\n",
    "df.name = df.name.str.replace('This is ', '', regex=False)\n",
    "df.name = df.name.str.replace('Meet ', '', regex=False)\n",
    "df.name = df.name.str.replace('Say hello to ', '', regex=False)\n",
    "df.name = df.name.str.replace('is name is ', '', regex=False)\n",
    "df.name = df.name.str.replace('er name is ', '', regex=False)\n",
    "df.name = df.name.str.replace('named ', '', regex=False)\n",
    "#strip white spaces\n",
    "df.name = df.name.str.strip()\n",
    "\n",
    "df[df.tweet_id.isin(wrong_name_tweets)][['text', 'name']]"
   ]
  },
  {
   "cell_type": "markdown",
   "metadata": {},
   "source": [
    "Much better!"
   ]
  },
  {
   "cell_type": "markdown",
   "metadata": {},
   "source": [
    "Previously, we had a lot of unextracted stage varible. Has the situation improved?"
   ]
  },
  {
   "cell_type": "code",
   "execution_count": 19,
   "metadata": {},
   "outputs": [
    {
     "data": {
      "text/plain": [
       "40       pupper\n",
       "44      floofer\n",
       "45       pupper\n",
       "65        doggo\n",
       "67        puppo\n",
       "82        puppo\n",
       "100       puppo\n",
       "157       puppo\n",
       "188       puppo\n",
       "202       puppo\n",
       "265      pupper\n",
       "289     floofer\n",
       "292      pupper\n",
       "313       doggo\n",
       "356      pupper\n",
       "360       puppo\n",
       "401     floofer\n",
       "405     floofer\n",
       "479     floofer\n",
       "510     floofer\n",
       "610       doggo\n",
       "621     floofer\n",
       "626     floofer\n",
       "655     floofer\n",
       "674      pupper\n",
       "768     floofer\n",
       "771     floofer\n",
       "779     floofer\n",
       "814      pupper\n",
       "821      pupper\n",
       "823     floofer\n",
       "835      pupper\n",
       "846     floofer\n",
       "847     floofer\n",
       "911     floofer\n",
       "914      pupper\n",
       "920     floofer\n",
       "930     floofer\n",
       "964     floofer\n",
       "1005    floofer\n",
       "1029    floofer\n",
       "1044     pupper\n",
       "1045    floofer\n",
       "1059    floofer\n",
       "1103    floofer\n",
       "1131     pupper\n",
       "1132     pupper\n",
       "1138     pupper\n",
       "1187     pupper\n",
       "1205     pupper\n",
       "1265     pupper\n",
       "1277     pupper\n",
       "1281     pupper\n",
       "1293     pupper\n",
       "Name: stage, dtype: object"
      ]
     },
     "execution_count": 19,
     "metadata": {},
     "output_type": "execute_result"
    }
   ],
   "source": [
    "old_nans = archive.query('doggo == \"None\" and floofer == \"None\" and pupper == \"None\" and puppo == \"None\"')['tweet_id']\n",
    "df[df.tweet_id.isin(old_nans) & df.stage.notnull()]['stage']"
   ]
  },
  {
   "cell_type": "markdown",
   "metadata": {},
   "source": [
    "Much much better!"
   ]
  },
  {
   "cell_type": "markdown",
   "metadata": {},
   "source": [
    "Let's save the dataset to file now."
   ]
  },
  {
   "cell_type": "code",
   "execution_count": 20,
   "metadata": {},
   "outputs": [],
   "source": [
    "df.to_csv('twitter_archive_master.csv', index=False)"
   ]
  },
  {
   "cell_type": "markdown",
   "metadata": {},
   "source": [
    "## Data Analysis"
   ]
  },
  {
   "cell_type": "code",
   "execution_count": 21,
   "metadata": {},
   "outputs": [
    {
     "data": {
      "text/html": [
       "<div>\n",
       "<style scoped>\n",
       "    .dataframe tbody tr th:only-of-type {\n",
       "        vertical-align: middle;\n",
       "    }\n",
       "\n",
       "    .dataframe tbody tr th {\n",
       "        vertical-align: top;\n",
       "    }\n",
       "\n",
       "    .dataframe thead th {\n",
       "        text-align: right;\n",
       "    }\n",
       "</style>\n",
       "<table border=\"1\" class=\"dataframe\">\n",
       "  <thead>\n",
       "    <tr style=\"text-align: right;\">\n",
       "      <th></th>\n",
       "      <th>tweet_id</th>\n",
       "      <th>in_reply_to_status_id</th>\n",
       "      <th>in_reply_to_user_id</th>\n",
       "      <th>rating_numerator</th>\n",
       "      <th>rating_denominator</th>\n",
       "      <th>retweet_count</th>\n",
       "      <th>favorite_count</th>\n",
       "      <th>confidence</th>\n",
       "    </tr>\n",
       "  </thead>\n",
       "  <tbody>\n",
       "    <tr>\n",
       "      <th>count</th>\n",
       "      <td>1.614000e+03</td>\n",
       "      <td>6.800000e+01</td>\n",
       "      <td>6.800000e+01</td>\n",
       "      <td>1613.000000</td>\n",
       "      <td>1613.000000</td>\n",
       "      <td>1614.000000</td>\n",
       "      <td>1614.000000</td>\n",
       "      <td>1433.000000</td>\n",
       "    </tr>\n",
       "    <tr>\n",
       "      <th>mean</th>\n",
       "      <td>7.411359e+17</td>\n",
       "      <td>7.518835e+17</td>\n",
       "      <td>2.310372e+16</td>\n",
       "      <td>12.290936</td>\n",
       "      <td>10.509609</td>\n",
       "      <td>2725.578686</td>\n",
       "      <td>8864.768897</td>\n",
       "      <td>0.613561</td>\n",
       "    </tr>\n",
       "    <tr>\n",
       "      <th>std</th>\n",
       "      <td>6.826973e+16</td>\n",
       "      <td>7.836243e+16</td>\n",
       "      <td>1.340451e+17</td>\n",
       "      <td>21.003605</td>\n",
       "      <td>6.558720</td>\n",
       "      <td>4702.507402</td>\n",
       "      <td>12260.286403</td>\n",
       "      <td>0.261200</td>\n",
       "    </tr>\n",
       "    <tr>\n",
       "      <th>min</th>\n",
       "      <td>6.660209e+17</td>\n",
       "      <td>6.658147e+17</td>\n",
       "      <td>1.185634e+07</td>\n",
       "      <td>1.000000</td>\n",
       "      <td>10.000000</td>\n",
       "      <td>0.000000</td>\n",
       "      <td>52.000000</td>\n",
       "      <td>0.044333</td>\n",
       "    </tr>\n",
       "    <tr>\n",
       "      <th>25%</th>\n",
       "      <td>6.789941e+17</td>\n",
       "      <td>6.764027e+17</td>\n",
       "      <td>1.909316e+08</td>\n",
       "      <td>10.000000</td>\n",
       "      <td>10.000000</td>\n",
       "      <td>607.000000</td>\n",
       "      <td>2046.000000</td>\n",
       "      <td>0.388332</td>\n",
       "    </tr>\n",
       "    <tr>\n",
       "      <th>50%</th>\n",
       "      <td>7.156888e+17</td>\n",
       "      <td>7.205448e+17</td>\n",
       "      <td>4.196984e+09</td>\n",
       "      <td>11.000000</td>\n",
       "      <td>10.000000</td>\n",
       "      <td>1378.500000</td>\n",
       "      <td>4226.000000</td>\n",
       "      <td>0.614231</td>\n",
       "    </tr>\n",
       "    <tr>\n",
       "      <th>75%</th>\n",
       "      <td>7.954483e+17</td>\n",
       "      <td>8.328772e+17</td>\n",
       "      <td>4.196984e+09</td>\n",
       "      <td>12.000000</td>\n",
       "      <td>10.000000</td>\n",
       "      <td>3206.250000</td>\n",
       "      <td>11206.000000</td>\n",
       "      <td>0.854861</td>\n",
       "    </tr>\n",
       "    <tr>\n",
       "      <th>max</th>\n",
       "      <td>8.921774e+17</td>\n",
       "      <td>8.862664e+17</td>\n",
       "      <td>8.405479e+17</td>\n",
       "      <td>666.000000</td>\n",
       "      <td>150.000000</td>\n",
       "      <td>79515.000000</td>\n",
       "      <td>132810.000000</td>\n",
       "      <td>0.999956</td>\n",
       "    </tr>\n",
       "  </tbody>\n",
       "</table>\n",
       "</div>"
      ],
      "text/plain": [
       "           tweet_id  in_reply_to_status_id  in_reply_to_user_id  \\\n",
       "count  1.614000e+03           6.800000e+01         6.800000e+01   \n",
       "mean   7.411359e+17           7.518835e+17         2.310372e+16   \n",
       "std    6.826973e+16           7.836243e+16         1.340451e+17   \n",
       "min    6.660209e+17           6.658147e+17         1.185634e+07   \n",
       "25%    6.789941e+17           6.764027e+17         1.909316e+08   \n",
       "50%    7.156888e+17           7.205448e+17         4.196984e+09   \n",
       "75%    7.954483e+17           8.328772e+17         4.196984e+09   \n",
       "max    8.921774e+17           8.862664e+17         8.405479e+17   \n",
       "\n",
       "       rating_numerator  rating_denominator  retweet_count  favorite_count  \\\n",
       "count       1613.000000         1613.000000    1614.000000     1614.000000   \n",
       "mean          12.290936           10.509609    2725.578686     8864.768897   \n",
       "std           21.003605            6.558720    4702.507402    12260.286403   \n",
       "min            1.000000           10.000000       0.000000       52.000000   \n",
       "25%           10.000000           10.000000     607.000000     2046.000000   \n",
       "50%           11.000000           10.000000    1378.500000     4226.000000   \n",
       "75%           12.000000           10.000000    3206.250000    11206.000000   \n",
       "max          666.000000          150.000000   79515.000000   132810.000000   \n",
       "\n",
       "        confidence  \n",
       "count  1433.000000  \n",
       "mean      0.613561  \n",
       "std       0.261200  \n",
       "min       0.044333  \n",
       "25%       0.388332  \n",
       "50%       0.614231  \n",
       "75%       0.854861  \n",
       "max       0.999956  "
      ]
     },
     "execution_count": 21,
     "metadata": {},
     "output_type": "execute_result"
    }
   ],
   "source": [
    "df.describe()"
   ]
  },
  {
   "cell_type": "markdown",
   "metadata": {},
   "source": [
    "### Insight 1\n",
    "Let's find out which are the top 5 favorite dog breed by people who saw the tweets.\n",
    "To do this, let's groupby the `dog_breed` and get the top 5 based on both `favorite_count` and `retweet_count`."
   ]
  },
  {
   "cell_type": "code",
   "execution_count": 22,
   "metadata": {},
   "outputs": [
    {
     "data": {
      "text/html": [
       "<div>\n",
       "<style scoped>\n",
       "    .dataframe tbody tr th:only-of-type {\n",
       "        vertical-align: middle;\n",
       "    }\n",
       "\n",
       "    .dataframe tbody tr th {\n",
       "        vertical-align: top;\n",
       "    }\n",
       "\n",
       "    .dataframe thead th {\n",
       "        text-align: right;\n",
       "    }\n",
       "</style>\n",
       "<table border=\"1\" class=\"dataframe\">\n",
       "  <thead>\n",
       "    <tr style=\"text-align: right;\">\n",
       "      <th></th>\n",
       "      <th>favorite_count</th>\n",
       "      <th>retweet_count</th>\n",
       "    </tr>\n",
       "    <tr>\n",
       "      <th>dog_breed</th>\n",
       "      <th></th>\n",
       "      <th></th>\n",
       "    </tr>\n",
       "  </thead>\n",
       "  <tbody>\n",
       "    <tr>\n",
       "      <th>golden_retriever</th>\n",
       "      <td>1668261.0</td>\n",
       "      <td>494931.0</td>\n",
       "    </tr>\n",
       "    <tr>\n",
       "      <th>Labrador_retriever</th>\n",
       "      <td>1015922.0</td>\n",
       "      <td>323951.0</td>\n",
       "    </tr>\n",
       "    <tr>\n",
       "      <th>Pembroke</th>\n",
       "      <td>960900.0</td>\n",
       "      <td>272440.0</td>\n",
       "    </tr>\n",
       "    <tr>\n",
       "      <th>Chihuahua</th>\n",
       "      <td>644051.0</td>\n",
       "      <td>212291.0</td>\n",
       "    </tr>\n",
       "    <tr>\n",
       "      <th>French_bulldog</th>\n",
       "      <td>447417.0</td>\n",
       "      <td>117874.0</td>\n",
       "    </tr>\n",
       "  </tbody>\n",
       "</table>\n",
       "</div>"
      ],
      "text/plain": [
       "                    favorite_count  retweet_count\n",
       "dog_breed                                        \n",
       "golden_retriever         1668261.0       494931.0\n",
       "Labrador_retriever       1015922.0       323951.0\n",
       "Pembroke                  960900.0       272440.0\n",
       "Chihuahua                 644051.0       212291.0\n",
       "French_bulldog            447417.0       117874.0"
      ]
     },
     "execution_count": 22,
     "metadata": {},
     "output_type": "execute_result"
    }
   ],
   "source": [
    "grouped = df.groupby('dog_breed').sum()[['favorite_count', 'retweet_count']]\n",
    "grouped.sort_values(by=['favorite_count', 'retweet_count'], ascending=False, inplace=True)\n",
    "grouped.head()"
   ]
  },
  {
   "cell_type": "markdown",
   "metadata": {},
   "source": [
    "Great! now we know which are the most popluar dogs by people who encounterd the @WeRateDogs account tweets."
   ]
  },
  {
   "cell_type": "markdown",
   "metadata": {},
   "source": [
    "### Insight 2\n",
    "Let's find out if the most favorite dog breed changed over the years.\n",
    "To do this, let's create a new column `year` based on the tweet `timestamp`. Then we groupby the year and get the most favorite dog breed for each year."
   ]
  },
  {
   "cell_type": "code",
   "execution_count": 23,
   "metadata": {},
   "outputs": [
    {
     "data": {
      "text/html": [
       "<div>\n",
       "<style scoped>\n",
       "    .dataframe tbody tr th:only-of-type {\n",
       "        vertical-align: middle;\n",
       "    }\n",
       "\n",
       "    .dataframe tbody tr th {\n",
       "        vertical-align: top;\n",
       "    }\n",
       "\n",
       "    .dataframe thead th {\n",
       "        text-align: right;\n",
       "    }\n",
       "</style>\n",
       "<table border=\"1\" class=\"dataframe\">\n",
       "  <thead>\n",
       "    <tr style=\"text-align: right;\">\n",
       "      <th></th>\n",
       "      <th></th>\n",
       "      <th>favorite_count</th>\n",
       "      <th>retweet_count</th>\n",
       "    </tr>\n",
       "    <tr>\n",
       "      <th>year</th>\n",
       "      <th>dog_breed</th>\n",
       "      <th></th>\n",
       "      <th></th>\n",
       "    </tr>\n",
       "  </thead>\n",
       "  <tbody>\n",
       "    <tr>\n",
       "      <th>2015</th>\n",
       "      <th>toy_poodle</th>\n",
       "      <td>115640.0</td>\n",
       "      <td>51092.0</td>\n",
       "    </tr>\n",
       "    <tr>\n",
       "      <th>2016</th>\n",
       "      <th>golden_retriever</th>\n",
       "      <td>816529.0</td>\n",
       "      <td>286331.0</td>\n",
       "    </tr>\n",
       "    <tr>\n",
       "      <th>2017</th>\n",
       "      <th>golden_retriever</th>\n",
       "      <td>791714.0</td>\n",
       "      <td>184659.0</td>\n",
       "    </tr>\n",
       "  </tbody>\n",
       "</table>\n",
       "</div>"
      ],
      "text/plain": [
       "                       favorite_count  retweet_count\n",
       "year dog_breed                                      \n",
       "2015 toy_poodle              115640.0        51092.0\n",
       "2016 golden_retriever        816529.0       286331.0\n",
       "2017 golden_retriever        791714.0       184659.0"
      ]
     },
     "execution_count": 23,
     "metadata": {},
     "output_type": "execute_result"
    }
   ],
   "source": [
    "df['year'] = df.timestamp.dt.year\n",
    "grouped = df.groupby(['year', 'dog_breed']).sum(numeric_only=True)[['favorite_count', 'retweet_count']]\n",
    "grouped.sort_values(by=['favorite_count', 'retweet_count'], ascending=False, inplace=True)\n",
    "#grouped.groupby('year').head(1).sort_values(by=['year', 'favorite_count', 'retweet_count'], ascending=False)\n",
    "grouped.groupby('year').head(1).sort_values(by=['year'], ascending=True)"
   ]
  },
  {
   "cell_type": "markdown",
   "metadata": {},
   "source": [
    "OK! So the toy poodles were the most favorite in 2015 but golden retrievers took over in 2016 and held to their lead in 2017. Good for you golden ones!"
   ]
  },
  {
   "cell_type": "markdown",
   "metadata": {},
   "source": [
    "### Insight 3\n",
    "Let's find out what is the top 5 most popular name for dogs among the account followers"
   ]
  },
  {
   "cell_type": "code",
   "execution_count": 24,
   "metadata": {},
   "outputs": [
    {
     "data": {
      "text/plain": [
       "Cooper     10\n",
       "Charlie    10\n",
       "Lucy        9\n",
       "Oliver      9\n",
       "Tucker      8\n",
       "Name: name, dtype: int64"
      ]
     },
     "execution_count": 24,
     "metadata": {},
     "output_type": "execute_result"
    }
   ],
   "source": [
    "df.name.value_counts().head()"
   ]
  },
  {
   "cell_type": "markdown",
   "metadata": {},
   "source": [
    "If you meet a dog, there's a high chance if you call \"Charlie\" or \"Cooper\", he'll probably look your way."
   ]
  },
  {
   "cell_type": "markdown",
   "metadata": {},
   "source": [
    "### Visualizations\n",
    "Let's see which dog breed is favorited by the @WeRateDogs people themselves. I know that \"They are all good dogs, Brent\", but how likely a certain dog breed would get a high rating.\n",
    "We'll need to make a new column with the whole rating by deviding the numerator by the denominator."
   ]
  },
  {
   "cell_type": "code",
   "execution_count": 25,
   "metadata": {},
   "outputs": [
    {
     "data": {
      "image/png": "[encoded data removed]",
      "text/plain": [
       "<Figure size 432x288 with 1 Axes>"
      ]
     },
     "metadata": {
      "needs_background": "light"
     },
     "output_type": "display_data"
    }
   ],
   "source": [
    "df['rating'] = df.rating_numerator / df.rating_denominator\n",
    "df[df.rating < 15].plot(x='favorite_count', y='rating', kind='scatter'); # filtered for less than 15 to remove outliers"
   ]
  },
  {
   "cell_type": "code",
   "execution_count": 26,
   "metadata": {},
   "outputs": [
    {
     "data": {
      "image/png": "[encoded data removed]",
      "text/plain": [
       "<Figure size 432x288 with 1 Axes>"
      ]
     },
     "metadata": {
      "needs_background": "light"
     },
     "output_type": "display_data"
    }
   ],
   "source": [
    "df[df.rating < 15].plot(x='retweet_count', y='rating', kind='scatter'); # filtered for less than 15 to remove outliers"
   ]
  },
  {
   "cell_type": "markdown",
   "metadata": {},
   "source": [
    "Looks like retweeting and favouriting tend to increase as rating increases. The @WeRateDogs people seems to be in sync with the public."
   ]
  },
  {
   "cell_type": "markdown",
   "metadata": {},
   "source": [
    "Now, let's look at which dog stage gets rated higher in average."
   ]
  },
  {
   "cell_type": "code",
   "execution_count": 27,
   "metadata": {},
   "outputs": [
    {
     "data": {
      "image/png": "[encoded data removed]",
      "text/plain": [
       "<Figure size 432x288 with 1 Axes>"
      ]
     },
     "metadata": {
      "needs_background": "light"
     },
     "output_type": "display_data"
    }
   ],
   "source": [
    "df.groupby('stage').mean()['rating'].plot(x='stage', y='rating', kind='bar', ylim=(1, 1.25),\n",
    "                                          title=\"Average Rating per Stage\", ylabel='average rating');"
   ]
  },
  {
   "cell_type": "markdown",
   "metadata": {},
   "source": [
    "Looks like the puppos are the favorites."
   ]
  },
  {
   "cell_type": "markdown",
   "metadata": {},
   "source": [
    "Now, let's see how our top five favorite dogs popularity changed across time."
   ]
  },
  {
   "cell_type": "code",
   "execution_count": 28,
   "metadata": {},
   "outputs": [
    {
     "data": {
      "image/png": "[encoded data removed]",
      "text/plain": [
       "<Figure size 1080x1080 with 5 Axes>"
      ]
     },
     "metadata": {
      "needs_background": "light"
     },
     "output_type": "display_data"
    }
   ],
   "source": [
    "df['year_month'] = df.year.map(str) + \"-\" + df.timestamp.dt.month.map(str)\n",
    "favs = ['golden_retriever', 'Labrador_retriever', 'Pembroke', 'Chihuahua', 'French_bulldog']\n",
    "grouped = df[df.dog_breed.isin(favs)].groupby(['year_month', 'dog_breed']).sum()\n",
    "grouped.sort_values(by='year_month', ascending=True, inplace=True)\n",
    "grouped.unstack('dog_breed').interpolate().plot(y='favorite_count', kind='line', figsize=(15, 15),\n",
    "                                               title='Tweet Favorite Counts Across Time',\n",
    "                                               ylabel='Tweet Favorite Count', subplots=True,\n",
    "                                               ylim=(0, 220000));"
   ]
  },
  {
   "cell_type": "code",
   "execution_count": 29,
   "metadata": {},
   "outputs": [
    {
     "data": {
      "image/png": "[encoded data removed]",
      "text/plain": [
       "<Figure size 1080x1080 with 5 Axes>"
      ]
     },
     "metadata": {
      "needs_background": "light"
     },
     "output_type": "display_data"
    }
   ],
   "source": [
    "grouped.unstack('dog_breed').interpolate().plot(y='retweet_count', kind='line', figsize=(15, 15),\n",
    "                                               title='Retweeting Counts Across Time',\n",
    "                                               ylabel='Retweer Count', subplots=True,\n",
    "                                               ylim=(0, 90000));"
   ]
  },
  {
   "cell_type": "code",
   "execution_count": null,
   "metadata": {},
   "outputs": [],
   "source": []
  }
 ],
 "metadata": {
  "kernelspec": {
   "display_name": "Python 3",
   "language": "python",
   "name": "python3"
  },
  "language_info": {
   "codemirror_mode": {
    "name": "ipython",
    "version": 3
   },
   "file_extension": ".py",
   "mimetype": "text/x-python",
   "name": "python",
   "nbconvert_exporter": "python",
   "pygments_lexer": "ipython3",
   "version": "3.8.5"
  }
 },
 "nbformat": 4,
 "nbformat_minor": 4
}
